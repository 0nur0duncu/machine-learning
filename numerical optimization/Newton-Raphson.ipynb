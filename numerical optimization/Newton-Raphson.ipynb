{
 "cells": [
  {
   "cell_type": "code",
   "execution_count": 28,
   "metadata": {},
   "outputs": [
    {
     "name": "stdout",
     "output_type": "stream",
     "text": [
      "0 x: 3 f: 0 f1: 4 f2: 16 dx: -0.25\n",
      "1 x: 2.75 f: -0.57421875 f1: 0.875 f2: 9.25 dx: -0.0945945945945946\n",
      "2 x: 2.6554054054054053 f: -0.618909597664635 f1: 0.10399186622707346 f2: 7.087107377647914 dx: -0.014673386571657466\n",
      "3 x: 2.6407320188337478 f: -0.6196839495284375 f1: 0.0023266580895456856 f2: 6.770842352507727 dx: -0.00034362904472055205\n",
      "4 x: 2.640388389789027 f: -0.6196843494266414 f1: 1.2619791737167319e-06 f2: 6.763497816053155 dx: -1.8658676442852182e-07\n",
      "5 x: 2.6403882032022628 f: -0.6196843494267592 f1: 3.7336800318144014e-13 f2: 6.763493828821048 dx: -5.520342187501077e-14\n"
     ]
    }
   ],
   "source": [
    "x=3\n",
    "f = (x-1)**2*(x-2)*(x-3)\n",
    "f1 = 2*(x-1)*(x-2)*(x-3) + (x-1)**2*(2*x-5)   # = 2*(x-1)*(x-2)*(x-3) + (x-1)**2*(x-3) + (x-1)**2*(x-2)\n",
    "f2 =  2*(x-2)*(x-3) + 2*(x-1)*(2*x-5) + 2*(x-1)*(2*x-5) + 2*(x-1)**2\n",
    "dx = -f1/f2\n",
    "\n",
    "iteration = 0\n",
    "print(iteration,'x:',x,'f:',f,'f1:',f1,'f2:',f2,'dx:',dx)\n",
    "while abs(f1)>1e-10:\n",
    "    iteration += 1\n",
    "    x=x+dx\n",
    "    f = (x-1)**2*(x-2)*(x-3)\n",
    "    f1 = 2*(x-1)*(x-2)*(x-3) + (x-1)**2*(2*x-5)\n",
    "    f2 =  2*(x-2)*(x-3) + 2*(x-1)*(2*x-5) + 2*(x-1)*(2*x-5) + 2*(x-1)**2\n",
    "    dx = -f1/f2\n",
    "    print(iteration,'x:',x,'f:',f,'f1:',f1,'f2:',f2,'dx:',dx)"
   ]
  },
  {
   "cell_type": "code",
   "execution_count": null,
   "metadata": {},
   "outputs": [],
   "source": []
  }
 ],
 "metadata": {
  "kernelspec": {
   "display_name": "Python 3",
   "language": "python",
   "name": "python3"
  },
  "language_info": {
   "codemirror_mode": {
    "name": "ipython",
    "version": 3
   },
   "file_extension": ".py",
   "mimetype": "text/x-python",
   "name": "python",
   "nbconvert_exporter": "python",
   "pygments_lexer": "ipython3",
   "version": "3.12.2"
  }
 },
 "nbformat": 4,
 "nbformat_minor": 2
}
